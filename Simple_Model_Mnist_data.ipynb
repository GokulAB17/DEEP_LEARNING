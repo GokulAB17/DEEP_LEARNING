{
  "nbformat": 4,
  "nbformat_minor": 0,
  "metadata": {
    "kernelspec": {
      "display_name": "gpudl",
      "language": "python",
      "name": "gpudl"
    },
    "language_info": {
      "codemirror_mode": {
        "name": "ipython",
        "version": 3
      },
      "file_extension": ".py",
      "mimetype": "text/x-python",
      "name": "python",
      "nbconvert_exporter": "python",
      "pygments_lexer": "ipython3",
      "version": "3.7.9"
    },
    "colab": {
      "name": "Simple Model_Mnist_data.ipynb",
      "provenance": []
    }
  },
  "cells": [
    {
      "cell_type": "code",
      "metadata": {
        "colab": {
          "base_uri": "https://localhost:8080/"
        },
        "id": "eAFwMPJb_REr",
        "outputId": "57fda4f9-702b-4f24-dcfb-9b5cfb479636"
      },
      "source": [
        "import tensorflow as tf\n",
        "from tensorflow import keras\n",
        "\n",
        "\n",
        "(x_train,y_train),(x_val,y_val) = keras.datasets.fashion_mnist.load_data()"
      ],
      "execution_count": 1,
      "outputs": [
        {
          "output_type": "stream",
          "text": [
            "Downloading data from https://storage.googleapis.com/tensorflow/tf-keras-datasets/train-labels-idx1-ubyte.gz\n",
            "32768/29515 [=================================] - 0s 0us/step\n",
            "Downloading data from https://storage.googleapis.com/tensorflow/tf-keras-datasets/train-images-idx3-ubyte.gz\n",
            "26427392/26421880 [==============================] - 0s 0us/step\n",
            "Downloading data from https://storage.googleapis.com/tensorflow/tf-keras-datasets/t10k-labels-idx1-ubyte.gz\n",
            "8192/5148 [===============================================] - 0s 0us/step\n",
            "Downloading data from https://storage.googleapis.com/tensorflow/tf-keras-datasets/t10k-images-idx3-ubyte.gz\n",
            "4423680/4422102 [==============================] - 0s 0us/step\n"
          ],
          "name": "stdout"
        }
      ]
    },
    {
      "cell_type": "code",
      "metadata": {
        "id": "ghNuRH91_RE7"
      },
      "source": [
        "def preprocess(x, y):\n",
        "    x = tf.cast(x, tf.float32) / 255.0\n",
        "    y = tf.cast(y, tf.int64)\n",
        "    return x, y\n",
        "\n",
        "def create_dataset(xs, ys, n_classes=10):\n",
        "    ys = tf.one_hot(ys, depth=n_classes)\n",
        "    return tf.data.Dataset.from_tensor_slices((xs, ys)).map(preprocess).shuffle(len(ys)).batch(128)"
      ],
      "execution_count": 2,
      "outputs": []
    },
    {
      "cell_type": "code",
      "metadata": {
        "id": "iMqThkZ7_RE8"
      },
      "source": [
        "train_data_set = create_dataset(x_train,y_train)\n",
        "validation_data_set = create_dataset(x_val,y_val)"
      ],
      "execution_count": 3,
      "outputs": []
    },
    {
      "cell_type": "code",
      "metadata": {
        "id": "mascsvSi_RE9"
      },
      "source": [
        "model = keras.Sequential([\n",
        "    keras.layers.Reshape(target_shape=(28 * 28,), input_shape=(28, 28)),\n",
        "    keras.layers.Dense(units=256, activation='relu'),\n",
        "    keras.layers.Dense(units=192, activation='relu'),\n",
        "    keras.layers.Dense(units=128, activation='relu'),\n",
        "    keras.layers.Dense(units=10, activation='softmax')\n",
        "])"
      ],
      "execution_count": 4,
      "outputs": []
    },
    {
      "cell_type": "code",
      "metadata": {
        "colab": {
          "base_uri": "https://localhost:8080/"
        },
        "id": "96J5OduK_RE-",
        "outputId": "fbacb148-5ae7-4c36-d5ee-2270b45a78f1"
      },
      "source": [
        "model.compile(optimizer='adam', \n",
        "              loss=tf.losses.CategoricalCrossentropy(from_logits=True),\n",
        "              metrics=['accuracy'])\n",
        "\n",
        "\n",
        "\n",
        "history = model.fit(\n",
        "    train_data_set.repeat(), \n",
        "    epochs=10, \n",
        "    steps_per_epoch=500,\n",
        "    validation_data=validation_data_set.repeat(), \n",
        "    validation_steps=2\n",
        ")"
      ],
      "execution_count": 5,
      "outputs": [
        {
          "output_type": "stream",
          "text": [
            "Epoch 1/10\n",
            "500/500 [==============================] - 9s 12ms/step - loss: 0.6930 - accuracy: 0.7593 - val_loss: 0.4318 - val_accuracy: 0.8594\n",
            "Epoch 2/10\n",
            "500/500 [==============================] - 6s 11ms/step - loss: 0.3635 - accuracy: 0.8693 - val_loss: 0.3541 - val_accuracy: 0.8477\n",
            "Epoch 3/10\n",
            "500/500 [==============================] - 6s 11ms/step - loss: 0.3272 - accuracy: 0.8799 - val_loss: 0.4439 - val_accuracy: 0.8633\n",
            "Epoch 4/10\n",
            "500/500 [==============================] - 6s 11ms/step - loss: 0.3025 - accuracy: 0.8876 - val_loss: 0.3354 - val_accuracy: 0.8711\n",
            "Epoch 5/10\n",
            "500/500 [==============================] - 6s 11ms/step - loss: 0.2900 - accuracy: 0.8909 - val_loss: 0.2776 - val_accuracy: 0.9023\n",
            "Epoch 6/10\n",
            "500/500 [==============================] - 6s 11ms/step - loss: 0.2734 - accuracy: 0.8980 - val_loss: 0.3805 - val_accuracy: 0.8672\n",
            "Epoch 7/10\n",
            "500/500 [==============================] - 6s 11ms/step - loss: 0.2562 - accuracy: 0.9033 - val_loss: 0.3183 - val_accuracy: 0.8867\n",
            "Epoch 8/10\n",
            "500/500 [==============================] - 6s 11ms/step - loss: 0.2411 - accuracy: 0.9095 - val_loss: 0.2915 - val_accuracy: 0.8984\n",
            "Epoch 9/10\n",
            "500/500 [==============================] - 6s 11ms/step - loss: 0.2387 - accuracy: 0.9095 - val_loss: 0.3757 - val_accuracy: 0.8594\n",
            "Epoch 10/10\n",
            "500/500 [==============================] - 6s 11ms/step - loss: 0.2240 - accuracy: 0.9168 - val_loss: 0.4185 - val_accuracy: 0.8672\n"
          ],
          "name": "stdout"
        }
      ]
    },
    {
      "cell_type": "code",
      "metadata": {
        "id": "OOhO20JN_RFA"
      },
      "source": [
        "predicted_value = model.predict(validation_data_set)"
      ],
      "execution_count": 6,
      "outputs": []
    },
    {
      "cell_type": "code",
      "metadata": {
        "colab": {
          "base_uri": "https://localhost:8080/"
        },
        "id": "-wLCYsRf_RFA",
        "outputId": "8f3f1730-cb12-4d7b-86c4-b471e98395be"
      },
      "source": [
        "print (predicted_value[0])"
      ],
      "execution_count": 7,
      "outputs": [
        {
          "output_type": "stream",
          "text": [
            "[5.8924893e-10 1.0000000e+00 4.7301446e-10 1.8093399e-08 1.6151612e-08\n",
            " 2.7072804e-16 1.7991399e-08 4.1526655e-18 1.4331802e-11 5.1379490e-15]\n"
          ],
          "name": "stdout"
        }
      ]
    },
    {
      "cell_type": "code",
      "metadata": {
        "colab": {
          "base_uri": "https://localhost:8080/"
        },
        "id": "-JoyyK5k_RFB",
        "outputId": "2049adbf-8228-481b-fa28-854913eba37e"
      },
      "source": [
        "import numpy as np\n",
        "np.argmax(predicted_value[0])"
      ],
      "execution_count": 8,
      "outputs": [
        {
          "output_type": "execute_result",
          "data": {
            "text/plain": [
              "1"
            ]
          },
          "metadata": {
            "tags": []
          },
          "execution_count": 8
        }
      ]
    },
    {
      "cell_type": "code",
      "metadata": {
        "id": "paGZOj2i_RFC"
      },
      "source": [
        ""
      ],
      "execution_count": null,
      "outputs": []
    }
  ]
}